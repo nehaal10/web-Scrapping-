{
 "cells": [
  {
   "cell_type": "code",
   "execution_count": 2,
   "id": "c12f9755",
   "metadata": {},
   "outputs": [],
   "source": [
    "from selenium import webdriver"
   ]
  },
  {
   "cell_type": "code",
   "execution_count": 3,
   "id": "abc9db58",
   "metadata": {},
   "outputs": [],
   "source": [
    "#from selenium.webdriver.common.by import By\n",
    "from webdriver_manager.chrome import ChromeDriverManager"
   ]
  },
  {
   "cell_type": "code",
   "execution_count": 4,
   "id": "26ee1858",
   "metadata": {},
   "outputs": [],
   "source": [
    "from bs4 import BeautifulSoup as bsoup"
   ]
  },
  {
   "cell_type": "code",
   "execution_count": 287,
   "id": "40dbe8f7",
   "metadata": {},
   "outputs": [],
   "source": [
    "import pandas as pd\n",
    "import numpy as np\n",
    "\n",
    "from youtube_transcript_api import YouTubeTranscriptApi"
   ]
  },
  {
   "cell_type": "code",
   "execution_count": 288,
   "id": "ba5ecc06",
   "metadata": {},
   "outputs": [
    {
     "name": "stderr",
     "output_type": "stream",
     "text": [
      "<ipython-input-288-671e874e707d>:6: DeprecationWarning: executable_path has been deprecated, please pass in a Service object\n",
      "  driver=webdriver.Chrome(ChromeDriverManager().install())\n"
     ]
    }
   ],
   "source": [
    "channel_name=[]\n",
    "first_name=[]\n",
    "transcripts=[]\n",
    "url=['https://www.youtube.com/c/NicholasRenotte/videos?view=0&sort=p&flow=grid','https://www.youtube.com/c/Sidemen/videos?view=0&sort=p&flow=grid','https://www.youtube.com/c/Coreyms/videos?view=0&sort=p&flow=grid']\n",
    "for i in url:\n",
    "    driver=webdriver.Chrome(ChromeDriverManager().install())\n",
    "    driver.get(i)\n",
    "    content=driver.page_source.encode('utf-8').strip()\n",
    "    data=bsoup(content,'lxml')\n",
    "    name_extraction=data.find_all('div',class_='style-scope ytd-channel-name')\n",
    "    name=name_extraction[0].find('yt-formatted-string',class_='style-scope ytd-channel-name').text\n",
    "    channel_name.append(name)\n",
    "    first_name.append(name.split()[0])\n",
    "    link=data.find_all('a',id='video-title')[0].get('href').split('=')[-1]\n",
    "    transcript = YouTubeTranscriptApi.get_transcript(link)\n",
    "\n",
    "    text=''\n",
    "    for i in range(len(transcript)):\n",
    "        text+=transcript[i]['text']+'. '\n",
    "    transcripts.append(text)\n",
    "    "
   ]
  },
  {
   "cell_type": "code",
   "execution_count": 285,
   "id": "c9d0a124",
   "metadata": {},
   "outputs": [
    {
     "data": {
      "text/plain": [
       "[]"
      ]
     },
     "execution_count": 285,
     "metadata": {},
     "output_type": "execute_result"
    }
   ],
   "source": [
    "name_extraction"
   ]
  },
  {
   "cell_type": "code",
   "execution_count": 289,
   "id": "ff158663",
   "metadata": {},
   "outputs": [],
   "source": [
    "data=pd.DataFrame({'url':url,'channel name':channel_name,'first name':first_name,'email':[np.nan,np.nan,np.nan],'transcripts':transcripts})"
   ]
  },
  {
   "cell_type": "code",
   "execution_count": 291,
   "id": "2a98f5e4",
   "metadata": {},
   "outputs": [],
   "source": [
    "data.to_excel('C:\\\\Users\\\\nehaal\\\\Music\\\\youtube.xlsx')"
   ]
  },
  {
   "cell_type": "code",
   "execution_count": 89,
   "id": "b6d41925",
   "metadata": {},
   "outputs": [
    {
     "data": {
      "text/plain": [
       "(['Nicholas Renotte', 'Sidemen', 'Corey Schafer'],\n",
       " ['Nicholas', 'Sidemen', 'Corey'],\n",
       " 3)"
      ]
     },
     "execution_count": 89,
     "metadata": {},
     "output_type": "execute_result"
    }
   ],
   "source": [
    "channel_name,first_name,len(transcripts)"
   ]
  },
  {
   "cell_type": "code",
   "execution_count": 108,
   "id": "63f8f6b1",
   "metadata": {},
   "outputs": [
    {
     "name": "stderr",
     "output_type": "stream",
     "text": [
      "<ipython-input-108-28a68f0f6920>:1: DeprecationWarning: executable_path has been deprecated, please pass in a Service object\n",
      "  driver=webdriver.Chrome(ChromeDriverManager().install())\n"
     ]
    }
   ],
   "source": [
    "driver=webdriver.Chrome(ChromeDriverManager().install())\n",
    "driver.get('https://www.nortonrosefulbright.com/en')\n",
    "content=driver.page_source.encode('utf-8').strip()\n",
    "data=bsoup(content,'lxml')"
   ]
  },
  {
   "cell_type": "code",
   "execution_count": 102,
   "id": "05551c74",
   "metadata": {},
   "outputs": [],
   "source": [
    "data=bsoup(content,'lxml')\n"
   ]
  },
  {
   "cell_type": "code",
   "execution_count": 243,
   "id": "166adbc7",
   "metadata": {},
   "outputs": [],
   "source": [
    "company_name=['Norton Rose Fulbright','Gowling Lafleur Henderson LLP','Fasken LLP']\n",
    "#company_desc=[] \n",
    "#address=[] "
   ]
  },
  {
   "cell_type": "markdown",
   "id": "764df76f",
   "metadata": {},
   "source": [
    "# law firm 1 "
   ]
  },
  {
   "cell_type": "code",
   "execution_count": 178,
   "id": "1990d8f9",
   "metadata": {
    "scrolled": true
   },
   "outputs": [
    {
     "name": "stderr",
     "output_type": "stream",
     "text": [
      "<ipython-input-178-9976cae216d0>:2: DeprecationWarning: executable_path has been deprecated, please pass in a Service object\n",
      "  driver=webdriver.Chrome(ChromeDriverManager().install())\n"
     ]
    }
   ],
   "source": [
    "#company desc\n",
    "driver=webdriver.Chrome(ChromeDriverManager().install())\n",
    "driver.get('https://www.nortonrosefulbright.com/en')"
   ]
  },
  {
   "cell_type": "code",
   "execution_count": 179,
   "id": "88436982",
   "metadata": {},
   "outputs": [],
   "source": [
    "descri_firm1=[]\n",
    "descri_firm1.append(driver.find_element('xpath','//*[@id=\"content\"]/div[3]/div/section/header/div[3]/div/p').text)"
   ]
  },
  {
   "cell_type": "code",
   "execution_count": 143,
   "id": "fa7202df",
   "metadata": {},
   "outputs": [],
   "source": [
    "#add\n",
    "x=driver.find_element('xpath','//*[@id=\"content\"]/div[2]/div/div[2]/aside/div[2]')\n",
    "address_firm1=[' '.join(x.text.split('\\n')[1:-1])]"
   ]
  },
  {
   "cell_type": "code",
   "execution_count": 159,
   "id": "dd174e4e",
   "metadata": {},
   "outputs": [],
   "source": [
    "#big guns\n",
    "x=driver.find_element('xpath','//*[@id=\"coveoD983BA32\"]/div[2]')\n",
    "partners_firm1=partners"
   ]
  },
  {
   "cell_type": "code",
   "execution_count": 162,
   "id": "405d4240",
   "metadata": {},
   "outputs": [],
   "source": [
    "#email\n",
    "email_frim1=['rebecca.abouchedid@nortonrosefulbright.com','rebecca.abouchedid@nortonrosefulbright.com','robin.acworth@nortonrosefulbright.com','nick.adams@nortonrosefulbright.com']\n"
   ]
  },
  {
   "cell_type": "code",
   "execution_count": 173,
   "id": "4398790f",
   "metadata": {},
   "outputs": [],
   "source": [
    "#representatives\n",
    "x=driver.find_element('xpath','//*[@id=\"coveoD983BA32\"]/div[2]')\n",
    "representatives_firm_1=x.text.split('\\n')[::3][:4]"
   ]
  },
  {
   "cell_type": "code",
   "execution_count": 176,
   "id": "d9d61ad2",
   "metadata": {},
   "outputs": [],
   "source": [
    "x=driver.find_element('xpath','//*[@id=\"iQMQN07QHYIkg5QukNE3fQ\"]/table')\n",
    "transcript_firm1=[x.text]"
   ]
  },
  {
   "cell_type": "code",
   "execution_count": 185,
   "id": "194426c3",
   "metadata": {},
   "outputs": [
    {
     "data": {
      "text/plain": [
       "['Ceviel Alizadeh-Najmi', 'Erika Anschuetz', 'Julia Bassett', 'Jesse Beatson']"
      ]
     },
     "execution_count": 185,
     "metadata": {},
     "output_type": "execute_result"
    }
   ],
   "source": [
    "descri_firm1\n",
    "address_firm1\n",
    "partners_firm1\n",
    "email_frim1\n",
    "representatives_firm_1\n",
    "transcript_firm1"
   ]
  },
  {
   "cell_type": "markdown",
   "id": "767015c6",
   "metadata": {},
   "source": [
    "# law firm 2"
   ]
  },
  {
   "cell_type": "code",
   "execution_count": 103,
   "id": "a85155ce",
   "metadata": {},
   "outputs": [
    {
     "name": "stderr",
     "output_type": "stream",
     "text": [
      "<ipython-input-103-d78a7b772505>:1: DeprecationWarning: executable_path has been deprecated, please pass in a Service object\n",
      "  driver=webdriver.Chrome(ChromeDriverManager().install())\n"
     ]
    }
   ],
   "source": [
    "driver=webdriver.Chrome(ChromeDriverManager().install())\n",
    "driver.get('https://gowlingwlg.com/en/')\n",
    "content=driver.page_source.encode('utf-8').strip()\n",
    "data=bsoup(content,'lxml')"
   ]
  },
  {
   "cell_type": "code",
   "execution_count": 104,
   "id": "aa853b8a",
   "metadata": {},
   "outputs": [],
   "source": [
    "desc=data.find('div',class_='c-circle-content').find('p').text"
   ]
  },
  {
   "cell_type": "code",
   "execution_count": 60,
   "id": "a72cc6ea",
   "metadata": {},
   "outputs": [
    {
     "data": {
      "text/plain": [
       "'1600, 421 7th Avenue SW\\nCalgary, Alberta\\nT2P 4K9\\nCanada\\nView in Google Maps\\n\\nT: +1 403-298-1000 \\nF: +1 403-263-9193\\n\\nMore details'"
      ]
     },
     "execution_count": 60,
     "metadata": {},
     "output_type": "execute_result"
    }
   ],
   "source": [
    "add"
   ]
  },
  {
   "cell_type": "code",
   "execution_count": 43,
   "id": "cd4451c8",
   "metadata": {},
   "outputs": [],
   "source": [
    "x=driver.find_elements('xpath','//*[@id=\"searchResults\"]/ul[1]/li[1]/div/article/div/div/div')\n",
    "name_1=x[0].text.split('\\n')[0]\n",
    "x=driver.find_element('xpath','//*[@id=\"searchResults\"]/ul[1]/li[2]/div/article/div/div/div/p/a/strong')\n",
    "name_2=x.text\n",
    "name_3='Andy Stylianou'\n",
    "big_guy_names=[name_1,name_2,name_3]"
   ]
  },
  {
   "cell_type": "code",
   "execution_count": 107,
   "id": "661c93ac",
   "metadata": {},
   "outputs": [],
   "source": [
    "#email\n",
    "email_1='robert.caddick@gowlingwlg.com'\n",
    "email_2='Marc.Ouellet@gowlingwlg.com'\n",
    "email_3='andy.stylianou@gowlingwlg.com'\n",
    "email=[email_1,email_2,email_3]"
   ]
  },
  {
   "cell_type": "code",
   "execution_count": 82,
   "id": "95eb972a",
   "metadata": {},
   "outputs": [],
   "source": [
    "#name of the representatives\n",
    "x=driver.find_elements('xpath','//*[@id=\"searchResults\"]/ul[1]')\n",
    "names_representative=x[0].text.split('\\n')[0::5][:4]"
   ]
  },
  {
   "cell_type": "code",
   "execution_count": 87,
   "id": "36c1f83d",
   "metadata": {},
   "outputs": [
    {
     "name": "stderr",
     "output_type": "stream",
     "text": [
      "<ipython-input-87-d068e4659f47>:2: DeprecationWarning: executable_path has been deprecated, please pass in a Service object\n",
      "  driver=webdriver.Chrome(ChromeDriverManager().install())\n"
     ]
    }
   ],
   "source": [
    "# transcript\n",
    "driver=webdriver.Chrome(ChromeDriverManager().install())\n",
    "driver.get('https://gowlingwlg.com/en/news/awards-recognition/2020/sandra-barton-named-fellow-of-the-american-college/')\n",
    "content=driver.page_source.encode('utf-8').strip()\n",
    "data=bsoup(content,'lxml')\n"
   ]
  },
  {
   "cell_type": "code",
   "execution_count": 99,
   "id": "7de25db0",
   "metadata": {},
   "outputs": [],
   "source": [
    "x=driver.find_element('xpath','//*[@id=\"video-content-06f08f8f4e\"]')\n",
    "transcript=['/n'.join(x.text.split('\\n'))]"
   ]
  },
  {
   "cell_type": "code",
   "execution_count": 110,
   "id": "6d014c9b",
   "metadata": {},
   "outputs": [
    {
     "data": {
      "text/plain": [
       "[\"Interview with Sandra Barton/nMark: In September my partner and friend, Sandra Barton, was inducted as a Fellow of The American College of Trial Lawyers. Sandra, congratulations./nSandra: Thank you, Mark./nMark: What does this recognition by the College mean to you, Sandra?/nSandra: I think first of all, Mark, it's incredibly humbling to be recognized by the premier institution for barristers in North America and be invited in as a colleague. But I think more than anything it's a huge responsibility because you really do have a creed to live up to. We always had it but I feel the added weight and burden of making sure that I live up to the College's own aspirations as a professional organization./nMark: What are some of the challenges and barriers that you had to encounter on your way up that ladder to get into the College?/nSandra: I don't know that I had aspired or even thought that I would ever meet the threshold of the College's requirements. My aspirations as a litigator have always been to do good work. Do good work in court and outside of court. Recognitions like this, while they are an honour, in some ways you question being the one singled out when you know that you stand on the shoulders of others, and you work hand in hand as a team for all of the results that you get to, and I think that humility will allow you to continue to learn and appreciate people if you understand that it is not you alone who gets you there./nMark: And as a prominent female black lawyer in Toronto, on Bay Street, is there added significance to your recognition this year because of what's going on in our society/nSandra: Being recognized, period, is an incredible honour but being recognized this year when the importance of being seen in leadership roles, being seen as part of a group of respected lawyers, in this case litigators, matters in a different way and so it's been a year where I've had to come a little bit out of the shadows myself and step up to be seen a bit more, if only to make that point. Not to just young black lawyers coming up but for doubters out there who don't think we exist. It's something that I am learning to become more comfortable with but that, in and of itself, is a process as well.\"]"
      ]
     },
     "execution_count": 110,
     "metadata": {},
     "output_type": "execute_result"
    }
   ],
   "source": [
    "big_guy_names=[name_1,name_2,name_3]\n",
    "email=[email_1,email_2,email_3]\n",
    "address=[add]\n",
    "description=[desc]\n",
    "names_representative\n",
    "transcript"
   ]
  },
  {
   "cell_type": "markdown",
   "id": "589178a6",
   "metadata": {},
   "source": [
    "# Firm 3"
   ]
  },
  {
   "cell_type": "code",
   "execution_count": 191,
   "id": "81a40131",
   "metadata": {},
   "outputs": [],
   "source": [
    "#desc\n",
    "#driver=webdriver.Chrome(ChromeDriverManager().install())\n",
    "driver.get('https://www.fasken.com/en')\n",
    "x=driver.find_element('xpath','//*[@id=\"main\"]/section[3]/div/header/div/div[2]/div')\n",
    "description_firm3=[x.text]"
   ]
  },
  {
   "cell_type": "code",
   "execution_count": 196,
   "id": "108c70b1",
   "metadata": {},
   "outputs": [],
   "source": [
    "#add\n",
    "address_frim3=[]\n",
    "driver.get('https://www.fasken.com/en/offices/vancouver')\n",
    "address_frim3.append(driver.find_element('xpath','//*[@id=\"main\"]/section[1]/div/div/div/div/div[1]/span').text)"
   ]
  },
  {
   "cell_type": "code",
   "execution_count": 215,
   "id": "d911e833",
   "metadata": {},
   "outputs": [
    {
     "name": "stderr",
     "output_type": "stream",
     "text": [
      "<ipython-input-215-a763a46422b9>:2: DeprecationWarning: executable_path has been deprecated, please pass in a Service object\n",
      "  driver=webdriver.Chrome(ChromeDriverManager().install())\n"
     ]
    }
   ],
   "source": [
    "#parnership,#email\n",
    "driver=webdriver.Chrome(ChromeDriverManager().install())\n",
    "driver.get('https://www.fasken.com/en/people/lawyer#q=vancouver&sort=relevancy&f:_48DFBF78-54F8-4FEC-9C91-A346C4EAB4B0=[Vancouver]&f:_655D45B3-F5B3-4267-9ED6-0D26D52D4A43=[Partner]')\n",
    "x=driver.find_element('xpath','//*[@id=\"hub-search-results\"]/div/div[2]')"
   ]
  },
  {
   "cell_type": "code",
   "execution_count": 229,
   "id": "9723cac0",
   "metadata": {},
   "outputs": [],
   "source": [
    "partners=x.text.split('\\n')[::5][:4]\n",
    "email_firm3=[]\n",
    "for i in x.text.split('\\n')[3::5][:4]:\n",
    "    email_firm3.append(i.split(\" \")[-1])"
   ]
  },
  {
   "cell_type": "code",
   "execution_count": 237,
   "id": "67184a12",
   "metadata": {},
   "outputs": [],
   "source": [
    "#representative\n",
    "representatives_firm3=driver.find_element('xpath','//*[@id=\"hub-search-results\"]/div/div[2]/div[3]/div').text.split('\\n')[::7][:4]"
   ]
  },
  {
   "cell_type": "code",
   "execution_count": 240,
   "id": "e68af71f",
   "metadata": {},
   "outputs": [],
   "source": [
    "#transcripts\n",
    "transcripts_firm3=[driver.find_element('xpath','//*[@id=\"overview-content\"]/div/div[2]/p[1]').text]"
   ]
  },
  {
   "cell_type": "markdown",
   "id": "bae5d19c",
   "metadata": {},
   "source": [
    "# final step"
   ]
  },
  {
   "cell_type": "code",
   "execution_count": 244,
   "id": "1c03ac84",
   "metadata": {},
   "outputs": [
    {
     "data": {
      "text/plain": [
       "['Norton Rose Fulbright', 'Gowling Lafleur Henderson LLP', 'Fasken LLP']"
      ]
     },
     "execution_count": 244,
     "metadata": {},
     "output_type": "execute_result"
    }
   ],
   "source": [
    "company_name"
   ]
  },
  {
   "cell_type": "code",
   "execution_count": null,
   "id": "dad1cc57",
   "metadata": {},
   "outputs": [],
   "source": [
    "descri_firm1\n",
    "address_firm1\n",
    "partners_firm1\n",
    "email_frim1\n",
    "representatives_firm_1\n",
    "transcript_firm1"
   ]
  },
  {
   "cell_type": "code",
   "execution_count": null,
   "id": "24e5d3d2",
   "metadata": {},
   "outputs": [],
   "source": [
    "big_guy_names=[name_1,name_2,name_3]+\n",
    "email=[email_1,email_2,email_3]\n",
    "address=[add]\n",
    "description=[desc]\n",
    "names_representative\n",
    "transcript"
   ]
  },
  {
   "cell_type": "code",
   "execution_count": 276,
   "id": "3312f3a0",
   "metadata": {},
   "outputs": [],
   "source": [
    "description_final=descri_firm1+description+description_firm3\n",
    "address_final=address_firm1+['1600, 421 7th Avenue SW Calgary, Alberta T2P 4K9 Canada']+address_frim3\n",
    "partners_final=[partners_firm1]+[big_guy_names]+[partners]\n",
    "email_final=[email_frim1]+[email]+[email_firm3]\n",
    "representatives_final=[representatives_firm_1]+[names_representative]+[representatives_firm3]\n",
    "transcripts_final=transcript_firm1+transcript+transcripts_firm3"
   ]
  },
  {
   "cell_type": "code",
   "execution_count": 278,
   "id": "b1bdd239",
   "metadata": {},
   "outputs": [
    {
     "data": {
      "text/plain": [
       "[['rebecca.abouchedid@nortonrosefulbright.com',\n",
       "  'rebecca.abouchedid@nortonrosefulbright.com',\n",
       "  'robin.acworth@nortonrosefulbright.com',\n",
       "  'nick.adams@nortonrosefulbright.com'],\n",
       " ['robert.caddick@gowlingwlg.com',\n",
       "  'Marc.Ouellet@gowlingwlg.com',\n",
       "  'andy.stylianou@gowlingwlg.com'],\n",
       " ['glyster@fasken.com',\n",
       "  'mstephens@fasken.com',\n",
       "  'amacinnis@fasken.com',\n",
       "  'sgutierrez@fasken.com']]"
      ]
     },
     "execution_count": 278,
     "metadata": {},
     "output_type": "execute_result"
    }
   ],
   "source": [
    "email_final"
   ]
  },
  {
   "cell_type": "code",
   "execution_count": 292,
   "id": "91d4f031",
   "metadata": {},
   "outputs": [],
   "source": [
    "df=pd.DataFrame({'company_name':company_name,'Description':description_final,'Address':address_final,'Partners/Client Director/Executive':partners_final,'Email':email_final,'Representatives':representatives_final,'Transcript':transcripts_final})"
   ]
  },
  {
   "cell_type": "code",
   "execution_count": 293,
   "id": "a4dce6fd",
   "metadata": {},
   "outputs": [],
   "source": [
    "df.to_excel('C:\\\\Users\\\\nehaal\\\\Music\\\\law_firm.xlsx')"
   ]
  },
  {
   "cell_type": "code",
   "execution_count": null,
   "id": "5e0ae417",
   "metadata": {},
   "outputs": [],
   "source": []
  }
 ],
 "metadata": {
  "kernelspec": {
   "display_name": "Python 3 (ipykernel)",
   "language": "python",
   "name": "python3"
  },
  "language_info": {
   "codemirror_mode": {
    "name": "ipython",
    "version": 3
   },
   "file_extension": ".py",
   "mimetype": "text/x-python",
   "name": "python",
   "nbconvert_exporter": "python",
   "pygments_lexer": "ipython3",
   "version": "3.8.13"
  }
 },
 "nbformat": 4,
 "nbformat_minor": 5
}
